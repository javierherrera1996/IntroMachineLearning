{
 "cells": [
  {
   "cell_type": "markdown",
   "id": "cecf7a01",
   "metadata": {},
   "source": [
    "# Análisis Completo de Regresión Lineal\n",
    "\n",
    "Este notebook muestra paso a paso cómo realizar un análisis de **Regresión Lineal** empleando un conjunto de datos que contiene:\n",
    "- **valuationdate**: fecha de valoración (opcional para el modelo)\n",
    "- **revenues**: ingresos\n",
    "- **ebit**: utilidad antes de intereses e impuestos\n",
    "- **depreciation**: depreciación\n",
    "- **capex**: gastos de capital\n",
    "- **ncwc**: cambio en capital de trabajo neto\n",
    "- **bv**: (posiblemente) valor en libros\n",
    "- **y**: variable objetivo que deseamos predecir (por ejemplo, un valor financiero o de valoración)\n",
    "\n",
    "Iremos desde la **carga** y **exploración** del dataset hasta la **interpretación** de coeficientes y la **evaluación** de métricas importantes."
   ]
  },
  {
   "cell_type": "markdown",
   "id": "7ceab41b",
   "metadata": {},
   "source": [
    "## Paso 0: Importar librerías y configuración"
   ]
  },
  {
   "cell_type": "code",
   "execution_count": null,
   "id": "99b373c1",
   "metadata": {
    "executionInfo": {}
   },
   "outputs": [],
   "source": [
    "import numpy as np\n",
    "import pandas as pd\n",
    "import matplotlib.pyplot as plt\n",
    "import seaborn as sns\n",
    "\n",
    "from sklearn.model_selection import train_test_split\n",
    "from sklearn.linear_model import LinearRegression\n",
    "from sklearn.metrics import mean_squared_error, mean_absolute_error, r2_score\n",
    "\n",
    "# Ajustes de estilo\n",
    "sns.set(style=\"whitegrid\")\n",
    "plt.rcParams[\"figure.figsize\"] = (8, 6)"
   ]
  },
  {
   "cell_type": "markdown",
   "id": "871d0c89",
   "metadata": {},
   "source": [
    "## Paso 1: Carga y Exploración de Datos (EDA)\n",
    "\n",
    "En este primer bloque, cargaremos nuestro dataset y realizaremos un Análisis Exploratorio básico."
   ]
  },
  {
   "cell_type": "code",
   "execution_count": null,
   "id": "bc8b2753",
   "metadata": {},
   "outputs": [],
   "source": [
    "# Carga del dataset\n",
    "# Ajusta el nombre 'mi_dataset.csv' según tu archivo real.\n",
    "\n",
    "df = pd.read_csv(\"mi_dataset.csv\")  # Reemplazar con el archivo correcto\n",
    "df.head()"
   ]
  },
  {
   "cell_type": "code",
   "execution_count": null,
   "id": "ee5666d8",
   "metadata": {},
   "outputs": [],
   "source": [
    "# Forma y tipos de datos\n",
    "print(\"Forma del DataFrame:\", df.shape)\n",
    "df.info()"
   ]
  },
  {
   "cell_type": "markdown",
   "id": "a80a3bc6",
   "metadata": {},
   "source": [
    "### Estadísticas Descriptivas y Distribuciones"
   ]
  },
  {
   "cell_type": "code",
   "execution_count": null,
   "id": "e4ea6e54",
   "metadata": {},
   "outputs": [],
   "source": [
    "df.describe()"
   ]
  },
  {
   "cell_type": "code",
   "execution_count": null,
   "id": "9e7e875d",
   "metadata": {},
   "outputs": [],
   "source": [
    "# Ejemplo: Histogramas y/o Boxplots de las variables numéricas\n",
    "variables_numericas = [\"revenues\", \"ebit\", \"depreciation\", \"capex\", \"ncwc\", \"bv\", \"y\"]\n",
    "\n",
    "for col in variables_numericas:\n",
    "    plt.figure()\n",
    "    sns.histplot(df[col], kde=True)\n",
    "    plt.title(f\"Distribución de {col}\")\n",
    "    plt.show()\n",
    "\n",
    "# Boxplot general\n",
    "plt.figure()\n",
    "sns.boxplot(data=df[variables_numericas])\n",
    "plt.title(\"Boxplot de Variables Numéricas\")\n",
    "plt.show()"
   ]
  },
  {
   "cell_type": "markdown",
   "id": "9651d690",
   "metadata": {},
   "source": [
    "### Preguntas de Reflexión (Exploración)\n",
    "1. ¿Qué tipo de problema estás intentando resolver al usar `y` como variable objetivo?\n",
    "2. ¿Notas valores atípicos (outliers) en alguna de las variables? ¿Cómo podría afectar a la regresión lineal?\n",
    "3. ¿Crees que la columna `valuationdate` podría aportar información para predecir `y`, o la excluirías del análisis?\n",
    "\n",
    "_Responde con tu razonamiento propio aquí._"
   ]
  },
  {
   "cell_type": "markdown",
   "id": "32046c34",
   "metadata": {},
   "source": [
    "## Paso 2: Preparación y Limpieza de Datos\n",
    "\n",
    "1. **Manejo de valores faltantes**.\n",
    "2. **Posible eliminación** o **imputación** de outliers.\n",
    "3. **Transformaciones** (escalado, log, etc.) si son necesarias."
   ]
  },
  {
   "cell_type": "code",
   "execution_count": null,
   "id": "f5b80422",
   "metadata": {},
   "outputs": [],
   "source": [
    "# Revisión de valores faltantes\n",
    "df.isna().sum()"
   ]
  },
  {
   "cell_type": "markdown",
   "id": "a8d3af7a",
   "metadata": {},
   "source": [
    "Si encuentras valores faltantes, decide si:\n",
    "- Rellenarlos (imputar) con media, mediana, o un método más robusto.\n",
    "- Eliminarlos por completo si son pocos y no afectan significativamente la muestra.\n",
    "\n",
    "### Opcional: Transformaciones logarítmicas\n",
    "Si, por ejemplo, `revenues` o `y` tienen una escala muy grande y sospechas que la relación puede ser más lineal en el **espacio logarítmico**, podrías crear columnas como:\n",
    "```python\n",
    "df['log_revenues'] = np.log(df['revenues'] + 1)\n",
    "df['log_y'] = np.log(df['y'] + 1)\n",
    "```\n",
    "y usar esas variables en la regresión."
   ]
  },
  {
   "cell_type": "markdown",
   "id": "2f0ef045",
   "metadata": {},
   "source": [
    "### Pregunta de Reflexión (Limpieza)\n",
    "¿Por qué es relevante tratar valores faltantes y/o outliers **antes** de entrenar el modelo de regresión lineal?\n",
    "\n",
    "_Responde con tu razonamiento aquí._"
   ]
  },
  {
   "cell_type": "markdown",
   "id": "82f060e9",
   "metadata": {},
   "source": [
    "## Paso 3: Análisis de Correlación (Opcional, pero Recomendado para Múltiples Variables)\n",
    "Si pretendes usar más de una variable independiente (e.g. `revenues`, `ebit`, `depreciation`, etc.), es útil verificar:\n",
    "- **Relación** de cada variable con `y`.\n",
    "- **Multicolinealidad** entre variables predictoras."
   ]
  },
  {
   "cell_type": "code",
   "execution_count": null,
   "id": "d03834bf",
   "metadata": {},
   "outputs": [],
   "source": [
    "corr_matrix = df.corr()\n",
    "plt.figure(figsize=(8,6))\n",
    "sns.heatmap(corr_matrix, annot=True, cmap=\"coolwarm\")\n",
    "plt.title(\"Matriz de Correlación\")\n",
    "plt.show()"
   ]
  },
  {
   "cell_type": "markdown",
   "id": "06224774",
   "metadata": {},
   "source": [
    "### Pregunta de Reflexión (Correlación)\n",
    "Si detectas que dos columnas (por ejemplo, `revenues` y `ebit`) están **muy** correlacionadas, ¿cómo podría afectar esto a la interpretación de tus coeficientes?\n",
    "\n",
    "_Responde con tu razonamiento._"
   ]
  },
  {
   "cell_type": "markdown",
   "id": "38c1f6f8",
   "metadata": {},
   "source": [
    "## Paso 4: Selección de Variables e Implementación del Modelo\n",
    "\n",
    "1. **Seleccionar** cuáles columnas usarás como variables explicativas (features). Puede que uses todas o hagas una selección.\n",
    "2. **Asignar** `X` (features) y `y` (variable objetivo).\n",
    "3. **Dividir** en conjunto de entrenamiento (train) y conjunto de prueba (test)."
   ]
  },
  {
   "cell_type": "code",
   "execution_count": null,
   "id": "bdd7bace",
   "metadata": {},
   "outputs": [],
   "source": [
    "# Supongamos que decides usar 'revenues', 'ebit', 'depreciation', 'capex', 'ncwc', 'bv'\n",
    "# como variables predictoras. Ajusta según tus hallazgos.\n",
    "\n",
    "features = [\"revenues\", \"ebit\", \"depreciation\", \"capex\", \"ncwc\", \"bv\"]\n",
    "X = df[features]\n",
    "y = df[\"y\"]  # Variable objetivo\n",
    "\n",
    "# División en entrenamiento y prueba\n",
    "X_train, X_test, y_train, y_test = train_test_split(\n",
    "    X, y, test_size=0.2, random_state=42\n",
    ")\n",
    "print(\"Tamaño de entrenamiento:\", X_train.shape[0])\n",
    "print(\"Tamaño de prueba:\", X_test.shape[0])"
   ]
  },
  {
   "cell_type": "markdown",
   "id": "2958d1c2",
   "metadata": {},
   "source": [
    "### Preguntas de Reflexión (Selección de Variables)\n",
    "1. ¿Por qué es importante separar los datos en train y test?\n",
    "2. ¿Qué pasaría si entrenas y evalúas en el **mismo** conjunto de datos?\n",
    "\n",
    "_Responde con tu razonamiento._"
   ]
  },
  {
   "cell_type": "markdown",
   "id": "3b685686",
   "metadata": {},
   "source": [
    "## Paso 5: Entrenar el Modelo de Regresión Lineal\n",
    "Usaremos la clase `LinearRegression` de scikit-learn."
   ]
  },
  {
   "cell_type": "code",
   "execution_count": null,
   "id": "6cc35fa1",
   "metadata": {},
   "outputs": [],
   "source": [
    "model = LinearRegression()\n",
    "model.fit(X_train, y_train)\n",
    "\n",
    "print(\"Intercept (beta_0):\", model.intercept_)\n",
    "print(\"Coeficientes (beta_i):\", model.coef_)"
   ]
  },
  {
   "cell_type": "markdown",
   "id": "994fd089",
   "metadata": {},
   "source": [
    "### Interpretación de Coeficientes\n",
    "Si la lista de features es `[\"revenues\", \"ebit\", \"depreciation\", \"capex\", \"ncwc\", \"bv\"]` y tu `model.coef_` es algo como `[a, b, c, d, e, f]`, entonces:\n",
    "\n",
    "\\[ y \\approx \\beta_0 + a\\cdot revenues + b\\cdot ebit + c\\cdot depreciation + d\\cdot capex + e\\cdot ncwc + f\\cdot bv \\]\n",
    "\n",
    "Cada coeficiente indica cómo cambia `y` en promedio **por cada unidad** que se incrementa la variable (manteniendo las demás constantes)."
   ]
  },
  {
   "cell_type": "markdown",
   "id": "000bc2f3",
   "metadata": {},
   "source": [
    "## Paso 6: Evaluación y Validación del Modelo\n",
    "Usaremos las siguientes métricas:\n",
    "- **MSE (Mean Squared Error)**\n",
    "- **MAE (Mean Absolute Error)**\n",
    "- **R² (Coeficiente de Determinación)**"
   ]
  },
  {
   "cell_type": "code",
   "execution_count": null,
   "id": "2b1687ca",
   "metadata": {},
   "outputs": [],
   "source": [
    "# Predicciones\n",
    "y_train_pred = model.predict(X_train)\n",
    "y_test_pred = model.predict(X_test)\n",
    "\n",
    "# Métricas en entrenamiento\n",
    "mse_train = mean_squared_error(y_train, y_train_pred)\n",
    "mae_train = mean_absolute_error(y_train, y_train_pred)\n",
    "r2_train = r2_score(y_train, y_train_pred)\n",
    "\n",
    "# Métricas en prueba\n",
    "mse_test = mean_squared_error(y_test, y_test_pred)\n",
    "mae_test = mean_absolute_error(y_test, y_test_pred)\n",
    "r2_test = r2_score(y_test, y_test_pred)\n",
    "\n",
    "print(\"=== Entrenamiento ===\")\n",
    "print(f\"MSE: {mse_train:.2f}\")\n",
    "print(f\"MAE: {mae_train:.2f}\")\n",
    "print(f\"R²: {r2_train:.2f}\")\n",
    "\n",
    "print(\"\\n=== Prueba ===\")\n",
    "print(f\"MSE: {mse_test:.2f}\")\n",
    "print(f\"MAE: {mae_test:.2f}\")\n",
    "print(f\"R²: {r2_test:.2f}\")"
   ]
  },
  {
   "cell_type": "markdown",
   "id": "229849b2",
   "metadata": {},
   "source": [
    "### Preguntas de Reflexión (Evaluación)\n",
    "1. ¿Por qué comparamos las métricas en **Entrenamiento** vs **Prueba**?\n",
    "2. ¿Qué significa si el error en entrenamiento es **muy** distinto (mucho menor o mucho mayor) que en prueba?\n",
    "3. ¿Cómo interpretar un **R²** cercano a 1, cercano a 0 o incluso negativo?\n",
    "\n",
    "_Responde con tu razonamiento._"
   ]
  },
  {
   "cell_type": "markdown",
   "id": "d754c417",
   "metadata": {},
   "source": [
    "## Paso 7: Visualización de Resultados\n",
    "Para un análisis adicional, podemos observar:\n",
    "1. La **recta/hiperplano** de regresión (fácil en regresión simple, más complejo en múltiple).\n",
    "2. Los **residuos** (y - y_pred).\n",
    "\n",
    "### Ejemplo: Gráfico de Residuos vs. Predicciones\n",
    "Si se trata de una regresión múltiple, un gráfico muy común es `residuos vs. y_pred` para ver si los errores están bien distribuidos."
   ]
  },
  {
   "cell_type": "code",
   "execution_count": null,
   "id": "c0513eb2",
   "metadata": {},
   "outputs": [],
   "source": [
    "residuos_test = y_test - y_test_pred\n",
    "\n",
    "plt.figure()\n",
    "sns.scatterplot(x=y_test_pred, y=residuos_test)\n",
    "plt.axhline(y=0, color='r', linestyle='--')\n",
    "plt.title(\"Residuos vs. Predicción (Conjunto de Prueba)\")\n",
    "plt.xlabel(\"Predicción\")\n",
    "plt.ylabel(\"Residuos\")\n",
    "plt.show()"
   ]
  },
  {
   "cell_type": "markdown",
   "id": "e6b60a43",
   "metadata": {},
   "source": [
    "### Pregunta de Reflexión (Residuos)\n",
    "Si observas un patrón claro en la gráfica de residuos (por ejemplo, forma de U), ¿qué podría indicar respecto a las **asunciones** de la regresión lineal?\n",
    "\n",
    "_Responde con tu razonamiento._"
   ]
  },
  {
   "cell_type": "markdown",
   "id": "f357cf0e",
   "metadata": {},
   "source": [
    "## Paso 8: Interpretación y Conclusiones\n",
    "\n",
    "1. **Revisa** los coeficientes: ¿son consistentes con la lógica de negocio? (p.ej., si `ebit` aumenta, esperas que `y` aumente o disminuya?).\n",
    "2. **Observa** el nivel de error y R²: ¿el modelo es suficientemente bueno para su uso práctico?\n",
    "3. **Considera** la posibilidad de:\n",
    "   - Añadir más variables.\n",
    "   - Aplicar **regresiones polinómicas** (X², X³) si sospechas no linealidad.\n",
    "   - Usar **regularización** (Ridge, Lasso) si hay multicolinealidad o se requieren coeficientes más estables."
   ]
  },
  {
   "cell_type": "markdown",
   "id": "48d0593a",
   "metadata": {},
   "source": [
    "### Preguntas de Reflexión Final\n",
    "1. ¿Crees que la Regresión Lineal Simple/Múltiple **captura adecuadamente** las relaciones en tus datos?\n",
    "2. ¿Qué otras técnicas (ej. árboles de decisión, bosques aleatorios, etc.) considerarías para comparar resultados?\n",
    "3. ¿El dataset es suficientemente grande y variado para hacer conclusiones robustas?\n",
    "\n",
    "_Responde con tu razonamiento._"
   ]
  },
  {
   "cell_type": "markdown",
   "id": "2d97d703",
   "metadata": {},
   "source": [
    "## Resumen\n",
    "En este Notebook hemos:\n",
    "1. **Explorado** los datos (EDA) y detectado posibles outliers.\n",
    "2. **Limpieza** de datos y transformaciones opcionales.\n",
    "3. **Seleccionado** variables y dividido en train/test.\n",
    "4. **Entrenado** un modelo de Regresión Lineal.\n",
    "5. **Evaluado** con MSE, MAE, R² y analizado residuos.\n",
    "6. **Reflexionado** sobre los coeficientes y conclusiones.\n",
    "\n",
    "¡Has completado un **análisis de regresión lineal** de forma integral! Para afianzar, puedes:\n",
    "- Ajustar parámetros (aunque la regresión lineal simple en sklearn no tiene muchos).\n",
    "- Comparar con otros modelos.\n",
    "- Realizar validación cruzada en lugar de una simple división train/test.\n",
    "\n",
    "¡Éxitos en tu proyecto de análisis!"
   ]
  }
 ],
 "metadata": {
  "kernelspec": {
   "display_name": "Python 3",
   "language": "python",
   "name": "python3"
  },
  "language_info": {
   "name": "python",
   "version": "3.9"
  }
 },
 "nbformat": 4,
 "nbformat_minor": 5
}
