{
 "cells": [
  {
   "cell_type": "markdown",
   "metadata": {},
   "source": [
    "# Taller de Regresión Lineal Orientado al Negocio\n",
    "\n",
    "Este taller se centra en **cómo** un negocio (por ejemplo, un e-commerce) puede **interpretar** y **aprovechar** los resultados de la Regresión Lineal para **tomar decisiones**.\n",
    "\n",
    "## Contexto de Negocio\n",
    "Imagina que eres el/la **gerente de marketing** de una tienda en línea. Tienes un conjunto de datos con el comportamiento de los clientes y la **cantidad anual** que han gastado (`Yearly Amount Spent`). Tu objetivo es:\n",
    "1. **Identificar** qué factores (tiempo en la app, duración de la sesión, etc.) influyen más en el gasto anual.\n",
    "2. **Predecir** el gasto anual futuro de los clientes.\n",
    "3. Traducir estos hallazgos en **acciones concretas** que aumenten el gasto de los clientes."
   ]
  },
  {
   "cell_type": "markdown",
   "metadata": {},
   "source": [
    "## Datos Disponibles\n",
    "Se te proporciona un dataset con las columnas:\n",
    "- **Email**\n",
    "- **Address**\n",
    "- **Avatar**\n",
    "- **Avg. Session Length** (Promedio de duración de la sesión)\n",
    "- **Time on App** (Tiempo en la App)\n",
    "- **Time on Website** (Tiempo en el Sitio Web)\n",
    "- **Length of Membership** (Antigüedad de membresía, en años)\n",
    "- **Yearly Amount Spent** (Cantidad gastada anualmente)\n",
    "\n",
    "Tu variable objetivo para predecir es: **Yearly Amount Spent**."
   ]
  },
  {
   "cell_type": "markdown",
   "metadata": {},
   "source": [
    "## 1. Carga y Exploración de Datos\n",
    "\n",
    "### Tarea 1.1: Cargar los datos\n",
    "1. Crea un DataFrame (por ejemplo, `df`) leyendo el archivo CSV o introduciendo manualmente la tabla que se te proporcionó.\n",
    "2. Muestra las primeras 5 filas (`df.head()`), la forma (`df.shape`) y los tipos de datos (`df.info()`).\n",
    "\n",
    "**Pregunta de enfoque de negocio:**\n",
    "- ¿Qué **insights** iniciales obtienes con solo ver las variables? ¿Cómo podría eso impactar tus **estrategias de marketing**?"
   ]
  },
  {
   "cell_type": "code",
   "metadata": {},
   "source": [
    "# EJEMPLO de código:\n",
    "import pandas as pd\n",
    "\n",
    "# Supongamos que has guardado tu dataset en un archivo 'data.csv'\n",
    "# df = pd.read_csv('data.csv')\n",
    "# df.head()\n",
    "\n",
    "print(\"== Carga de datos completada. ==\")"
   ],
   "execution_count": null,
   "outputs": []
  },
  {
   "cell_type": "markdown",
   "metadata": {},
   "source": [
    "### Tarea 1.2: Análisis Exploratorio (EDA) Básico\n",
    "1. Ejecuta `df.describe()` para revisar las estadísticas descriptivas de las variables numéricas.\n",
    "2. Realiza uno o dos **boxplots** o **histogramas** para visualizar la distribución de:\n",
    "   - **Avg. Session Length**\n",
    "   - **Time on App**\n",
    "   - **Time on Website**\n",
    "   - **Length of Membership**\n",
    "   - **Yearly Amount Spent**\n",
    "\n",
    "**Preguntas de negocio:**\n",
    "1. Si detectas que, por ejemplo, la gente con **mayor** `Length of Membership` gasta más, ¿qué **estrategias** implementarías para retener y \"graduar\" a los nuevos clientes a miembros más \"antiguos\"?\n",
    "2. Si notas que el **Time on Website** es muy bajo vs. **Time on App**, ¿implica que debas mejorar la experiencia en el sitio web para que la gente pase más tiempo allí?"
   ]
  },
  {
   "cell_type": "code",
   "metadata": {},
   "source": [
    "# EJEMPLO de EDA:\n",
    "# Revisar estadísticas descriptivas:\n",
    "# df.describe()\n",
    "\n",
    "# Crear histogramas o boxplots:\n",
    "# import seaborn as sns\n",
    "# import matplotlib.pyplot as plt\n",
    "\n",
    "# sns.histplot(df['Time on App'], kde=True)\n",
    "# plt.show()\n",
    "\n",
    "print(\"== EDA básico completado. ==\")"
   ],
   "execution_count": null,
   "outputs": []
  },
  {
   "cell_type": "markdown",
   "metadata": {},
   "source": [
    "## 2. Selección de Variables\n",
    "En este dataset, algunas columnas como **Email**, **Address** o **Avatar** no son útiles directamente para el modelo de regresión.\n",
    "\n",
    "### Tarea 2.1: Elegir features\n",
    "- Usarás como variables predictoras (features) las siguientes columnas:\n",
    "  1. **Avg. Session Length**\n",
    "  2. **Time on App**\n",
    "  3. **Time on Website**\n",
    "  4. **Length of Membership**\n",
    "- La columna objetivo (target) será **Yearly Amount Spent**.\n",
    "\n",
    "**Pregunta de negocio**:\n",
    "- ¿Por qué estas columnas tienen sentido para **explicar** el gasto anual? (Piensa en la lógica, \"mientras más tiempo en app, más oportunidades de compra\")."
   ]
  },
  {
   "cell_type": "code",
   "metadata": {},
   "source": [
    "# EJEMPLO de selección de variables:\n",
    "# features = ['Avg. Session Length', 'Time on App', 'Time on Website', 'Length of Membership']\n",
    "# X = df[features]\n",
    "# y = df['Yearly Amount Spent']\n",
    "\n",
    "print(\"== Selección de variables completada. ==\")"
   ],
   "execution_count": null,
   "outputs": []
  },
  {
   "cell_type": "markdown",
   "metadata": {},
   "source": [
    "## 3. Dividir el Dataset en Entrenamiento y Prueba\n",
    "Para evaluar la capacidad de nuestro modelo de generalizar, dividiremos los datos en **train (80%)** y **test (20%)**.\n",
    "\n",
    "**Pregunta de negocio**:\n",
    "- ¿Cómo explicarías, en términos empresariales, que \"apartamos\" datos para prueba y no los usamos en el entrenamiento? ¿Qué importancia tiene para \"predecir\" clientes futuros?"
   ]
  },
  {
   "cell_type": "code",
   "metadata": {},
   "source": [
    "from sklearn.model_selection import train_test_split\n",
    "\n",
    "# EJEMPLO de división:\n",
    "# X_train, X_test, y_train, y_test = train_test_split(X, y, test_size=0.2, random_state=42)\n",
    "\n",
    "print(\"== División train/test completada. ==\")"
   ],
   "execution_count": null,
   "outputs": []
  },
  {
   "cell_type": "markdown",
   "metadata": {},
   "source": [
    "## 4. Entrenar el Modelo de Regresión Lineal\n",
    "1. **Crea** un objeto `LinearRegression()`.\n",
    "2. **Entrena** el modelo con los datos de entrenamiento.\n",
    "3. **Obtén** el intercepto y los coeficientes resultantes.\n",
    "\n",
    "**Pregunta de negocio**:\n",
    "- Si el coeficiente de `Time on App` es grande y positivo, ¿cómo podrías usar esta información para crear **campañas** o **mejoras** en la aplicación que incentiven al usuario a pasar más tiempo allí?"
   ]
  },
  {
   "cell_type": "code",
   "metadata": {},
   "source": [
    "from sklearn.linear_model import LinearRegression\n",
    "\n",
    "# model = LinearRegression()\n",
    "# model.fit(X_train, y_train)\n",
    "\n",
    "# print(\"Intercept:\", model.intercept_)\n",
    "# print(\"Coeficientes:\", model.coef_)\n",
    "\n",
    "print(\"== Modelo de Regresión entrenado. ==\")"
   ],
   "execution_count": null,
   "outputs": []
  },
  {
   "cell_type": "markdown",
   "metadata": {},
   "source": [
    "## 5. Evaluación del Modelo\n",
    "1. **Predice** en el conjunto de prueba.\n",
    "2. Calcula las **métricas** MSE, MAE y R² para verificar la calidad de tu modelo. No profundizaremos en residuos, solo en la idea de si el modelo \"le atina\" al gasto anual.\n",
    "\n",
    "**Preguntas de negocio**:\n",
    "1. ¿Qué interpretas si **R²** es cercano a 0.80 o 0.90? ¿El modelo es “bueno” para tus objetivos?\n",
    "2. Si el **MAE** es, por ejemplo, 15 USD, ¿es aceptable ese margen de error para tu negocio?"
   ]
  },
  {
   "cell_type": "code",
   "metadata": {},
   "source": [
    "from sklearn.metrics import mean_squared_error, mean_absolute_error, r2_score\n",
    "\n",
    "# y_pred_test = model.predict(X_test)\n",
    "\n",
    "# mse = mean_squared_error(y_test, y_pred_test)\n",
    "# mae = mean_absolute_error(y_test, y_pred_test)\n",
    "# r2 = r2_score(y_test, y_pred_test)\n",
    "\n",
    "# print(\"MSE:\", mse)\n",
    "# print(\"MAE:\", mae)\n",
    "# print(\"R2:\", r2)\n",
    "\n",
    "print(\"== Evaluación del modelo completada. ==\")"
   ],
   "execution_count": null,
   "outputs": []
  },
  {
   "cell_type": "markdown",
   "metadata": {},
   "source": [
    "## 6. Interpretación y Aplicación Práctica\n",
    "1. **Observa** los coeficientes resultantes: ¿qué variable es la más influyente? ¿Cómo impacta eso en tu estrategia de negocios?\n",
    "2. **Propuestas** de acción:\n",
    "   - Si `Time on App` es el que más incide, podrías **invertir** más en mejoras de la app.\n",
    "   - Si `Length of Membership` está ligado a más gasto, podrías **fidelizar** a los nuevos clientes con promociones.\n",
    "\n",
    "**Preguntas de negocio**:\n",
    "1. ¿Cómo comunicarías estos resultados a un equipo directivo que no maneja detalles estadísticos?\n",
    "2. ¿Qué **acciones concretas** aplicarías para aumentar el gasto anual de los clientes, basándote en los coeficientes del modelo?"
   ]
  },
  {
   "cell_type": "markdown",
   "metadata": {},
   "source": [
    "## 7. Conclusión: Caso de Negocio Real\n",
    "1. Redacta un breve **informe** o explicación final que responda:\n",
    "   - ¿Qué **variables** explican mejor el gasto anual?\n",
    "   - ¿Qué recomendaciones propones para aumentar el **Yearly Amount Spent**?\n",
    "2. **Limitaciones**: Menciona cualquier aspecto que el modelo no cubra (datos no considerados, linealidad asumida, etc.).\n",
    "\n",
    "Con estos pasos, podrás llevar la **visión estadística** a un **plan de acción** en tu estrategia de negocio."
   ]
  },
  {
   "cell_type": "markdown",
   "metadata": {},
   "source": [
    "# Resumen de las Tareas\n",
    "1. **EDA Rápido**: Cargar y describir el dataset.\n",
    "2. **Selección de Variables**: Explicar por qué se usan las columnas numéricas y se ignoran Email/Address.\n",
    "3. **Entrenamiento**: Ajustar el modelo de Regresión con `Avg. Session Length`, `Time on App`, `Time on Website`, `Length of Membership`.\n",
    "4. **Evaluación**: Observar MSE, MAE, R².\n",
    "5. **Interpretación**: Explicar cómo usaría el negocio estos resultados.\n",
    "\n",
    "## ¡Listo para Analizar!\n",
    "Sigue estos pasos, responde las **preguntas de negocio** y, sobre todo, **conecta** tus hallazgos con **acciones** en el mundo real.\n",
    "\n",
    "> **Nota**: Puedes consultar documentación o herramientas como ChatGPT si lo requieres, pero recuerda que las **respuestas** deben ser **tuyas**, pensando en el contexto de negocio y la lógica detrás de los coeficientes. ¡Éxito!"
   ]
  }
 ],
 "metadata": {
  "kernelspec": {
   "display_name": "Python 3",
   "language": "python",
   "name": "python3"
  },
  "language_info": {
   "name": "python",
   "version": "3.9"
  }
 },
 "nbformat": 4,
 "nbformat_minor": 5
}
