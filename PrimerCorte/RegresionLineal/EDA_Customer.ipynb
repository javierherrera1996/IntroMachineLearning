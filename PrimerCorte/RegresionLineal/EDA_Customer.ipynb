{
 "cells": [
  {
   "cell_type": "markdown",
   "metadata": {},
   "source": [
    "# Análisis Exploratorio de Datos (EDA)\n",
    "\n",
    "Este cuaderno realiza un EDA básico sobre un dataset hipotético de compras. El análisis se enfoca en preguntas de negocio sencillas y aplica métodos de filtrado y agrupación para calcular métricas relevantes."
   ]
  },
  {
   "cell_type": "markdown",
   "metadata": {},
   "source": [
    "## 1. Importar librerías y cargar datos\n",
    "\n",
    "En este ejemplo, se asume que el archivo CSV se llama `datos_compras.csv`. Ajusta el nombre o la ruta del archivo según corresponda."
   ]
  },
  {
   "cell_type": "code",
   "metadata": {
    "collapsed": false
   },
   "source": [
    "import pandas as pd\n",
    "\n",
    "# Cargar el dataset\n",
    "df = pd.read_csv('datos_compras.csv')\n",
    "\n",
    "# Mostrar las primeras filas para verificar\n",
    "df.head()"
   ],
   "execution_count": null,
   "outputs": []
  },
  {
   "cell_type": "markdown",
   "metadata": {},
   "source": [
    "Observamos que nuestro DataFrame contiene, entre otras, las siguientes columnas:\n",
    "\n",
    "- **Customer ID**: ID único de cada cliente.\n",
    "- **Age**: Edad del cliente.\n",
    "- **Gender**: Género del cliente (Male/Female).\n",
    "- **Item Purchased**: Nombre del producto comprado.\n",
    "- **Category**: Categoría del producto (Footwear, Clothing, Accessories, etc.).\n",
    "- **Purchase Amount (USD)**: Monto de la compra en dólares.\n",
    "- **Location**: Ubicación/Estado.\n",
    "- **Size**: Talla del producto.\n",
    "- **Color**: Color del producto.\n",
    "- **Season**: Temporada (Summer, Winter, etc.).\n",
    "- **Review Rating**: Calificación de reseña (escala 1-5).\n",
    "- **Subscription Status**: Indica si el cliente está suscrito (Yes/No).\n",
    "- **Shipping Type**: Tipo de envío (Express, Store Pickup, etc.).\n",
    "- **Discount Applied**: Indica si se aplicó descuento (Yes/No).\n",
    "- **Promo Code Used**: Indica si se usó código promocional (Yes/No).\n",
    "- **Previous Purchases**: Número de compras anteriores.\n",
    "- **Payment Method**: Método de pago (Credit Card, Debit Card, PayPal, etc.).\n",
    "- **Frequency of Purchases**: Frecuencia de compra (Daily, Weekly, Monthly, etc.).\n"
   ]
  },
  {
   "cell_type": "markdown",
   "metadata": {},
   "source": [
    "## 2. Limpieza y revisión rápida de datos\n",
    "Antes de responder a las preguntas de negocio, revisemos datos básicos: número de filas, columnas y valores nulos."
   ]
  },
  {
   "cell_type": "code",
   "metadata": {},
   "source": [
    "# Ver dimensiones (filas, columnas)\n",
    "df.shape"
   ],
   "execution_count": null,
   "outputs": []
  },
  {
   "cell_type": "code",
   "metadata": {},
   "source": [
    "# Ver información general\n",
    "df.info()"
   ],
   "execution_count": null,
   "outputs": []
  },
  {
   "cell_type": "code",
   "metadata": {},
   "source": [
    "# Ver estadísticos descriptivos de las columnas numéricas\n",
    "df.describe()"
   ],
   "execution_count": null,
   "outputs": []
  },
  {
   "cell_type": "markdown",
   "metadata": {},
   "source": [
    "Si encuentras valores nulos en alguna columna, podrías decidir cómo manejarlos (eliminarlos o rellenarlos). Por simplicidad, asumimos que no hay muchos datos faltantes o que no es crítico para este ejemplo."
   ]
  },
  {
   "cell_type": "markdown",
   "metadata": {},
   "source": [
    "## 3. Preguntas de negocio\n",
    "A continuación, formulamos algunas preguntas de negocio y utilizamos operaciones de filtrado y/o agrupaciones para responderlas."
   ]
  },
  {
   "cell_type": "markdown",
   "metadata": {},
   "source": [
    "### 3.1 ¿Cuántos clientes únicos hay?\n",
    "Esta pregunta nos ayuda a entender la base total de clientes."
   ]
  },
  {
   "cell_type": "code",
   "metadata": {},
   "source": [
    "# Número de clientes únicos\n",
    "num_clientes_unicos = df['Customer ID'].nunique()\n",
    "print(f\"Hay {num_clientes_unicos} clientes únicos en el dataset.\")"
   ],
   "execution_count": null,
   "outputs": []
  },
  {
   "cell_type": "markdown",
   "metadata": {},
   "source": [
    "### 3.2 ¿Cuál es el gasto promedio por género?\n",
    "Para entender si hay diferencias en el monto de compra según el género, hacemos un groupby y calculamos la media."
   ]
  },
  {
   "cell_type": "code",
   "metadata": {},
   "source": [
    "# Gasto promedio por género\n",
    "gasto_promedio_por_genero = df.groupby('Gender')['Purchase Amount (USD)'].mean()\n",
    "gasto_promedio_por_genero"
   ],
   "execution_count": null,
   "outputs": []
  },
  {
   "cell_type": "markdown",
   "metadata": {},
   "source": [
    "### 3.3 ¿Cuál es la calificación de reseña promedio por temporada?\n",
    "Si queremos ver si las reseñas cambian según la temporada, podemos hacer una agrupación por la columna `Season` y calcular la media."
   ]
  },
  {
   "cell_type": "code",
   "metadata": {},
   "source": [
    "# Calificación de reseña promedio por temporada\n",
    "reseña_promedio_por_temporada = df.groupby('Season')['Review Rating'].mean()\n",
    "reseña_promedio_por_temporada"
   ],
   "execution_count": null,
   "outputs": []
  },
  {
   "cell_type": "markdown",
   "metadata": {},
   "source": [
    "### 3.4 ¿Cuál es el método de pago más utilizado?\n",
    "Una forma rápida es usar `value_counts()` en la columna `Payment Method`."
   ]
  },
  {
   "cell_type": "code",
   "metadata": {},
   "source": [
    "# Método de pago más frecuente\n",
    "metodo_de_pago_popular = df['Payment Method'].value_counts()\n",
    "metodo_de_pago_popular"
   ],
   "execution_count": null,
   "outputs": []
  },
  {
   "cell_type": "markdown",
   "metadata": {},
   "source": [
    "### 3.5 ¿Qué categoría se vende más?\n",
    "Para saber la categoría más popular, también usamos `value_counts()`."
   ]
  },
  {
   "cell_type": "code",
   "metadata": {},
   "source": [
    "# Categoría más vendida\n",
    "categoria_popular = df['Category'].value_counts()\n",
    "categoria_popular"
   ],
   "execution_count": null,
   "outputs": []
  },
  {
   "cell_type": "markdown",
   "metadata": {},
   "source": [
    "### 3.6 ¿Cuántos clientes tienen suscripción activa?\n",
    "Analizamos la columna `Subscription Status`."
   ]
  },
  {
   "cell_type": "code",
   "metadata": {},
   "source": [
    "# Número de clientes con suscripción activa vs sin suscripción\n",
    "suscripciones = df['Subscription Status'].value_counts()\n",
    "suscripciones"
   ],
   "execution_count": null,
   "outputs": []
  },
  {
   "cell_type": "markdown",
   "metadata": {},
   "source": [
    "### 3.7 ¿Cuál es el gasto promedio por categoría?\n",
    "Para entender mejor en qué categoría gastan más nuestros clientes."
   ]
  },
  {
   "cell_type": "code",
   "metadata": {},
   "source": [
    "# Gasto promedio por categoría\n",
    "gasto_promedio_por_categoria = df.groupby('Category')['Purchase Amount (USD)'].mean()\n",
    "gasto_promedio_por_categoria"
   ],
   "execution_count": null,
   "outputs": []
  },
  {
   "cell_type": "markdown",
   "metadata": {},
   "source": [
    "### 3.8 ¿Cuántos clientes usan código promocional?\n",
    "Podemos filtrar o contar los valores de la columna `Promo Code Used`."
   ]
  },
  {
   "cell_type": "code",
   "metadata": {},
   "source": [
    "# Conteo de uso de código promocional\n",
    "promo_code_usage = df['Promo Code Used'].value_counts()\n",
    "promo_code_usage"
   ],
   "execution_count": null,
   "outputs": []
  },
  {
   "cell_type": "markdown",
   "metadata": {},
   "source": [
    "## 4. Conclusiones\n",
    "- **Clientes únicos**: Nos indica cuántas personas diferentes compran en nuestra tienda.\n",
    "- **Gasto promedio por género**: Sirve para comprender si existe diferencia significativa en el gasto entre hombres y mujeres.\n",
    "- **Calificación promedio por temporada**: Ayuda a identificar en qué temporada los clientes suelen estar más satisfechos.\n",
    "- **Métodos de pago preferidos**: Informa sobre la facilidad o preferencia de pago.\n",
    "- **Categoría más vendida**: Podríamos enfocarnos en promocionarla o analizar por qué se vende más.\n",
    "- **Suscripciones**: Entender cuántos clientes están suscritos para estrategias de marketing.\n",
    "- **Uso de códigos promocionales**: Indica si las promociones son efectivas o no.\n",
    "\n",
    "Este análisis permite identificar patrones y oportunidades para enfocar acciones comerciales y de marketing."
   ]
  }
 ],
 "metadata": {
  "kernelspec": {
   "display_name": "Python 3",
   "language": "python",
   "name": "python3"
  },
  "language_info": {
   "codemirror_mode": {
    "name": "ipython",
    "version": 3
   },
   "file_extension": ".py",
   "mimetype": "text/x-python",
   "name": "python",
   "pygments_lexer": "ipython3",
   "version": "3.7.3"
  }
 },
 "nbformat": 4,
 "nbformat_minor": 2
}
